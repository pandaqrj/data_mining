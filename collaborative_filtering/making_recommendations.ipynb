{
 "metadata": {
  "language_info": {
   "codemirror_mode": {
    "name": "ipython",
    "version": 3
   },
   "file_extension": ".py",
   "mimetype": "text/x-python",
   "name": "python",
   "nbconvert_exporter": "python",
   "pygments_lexer": "ipython3",
   "version": "3.8.8-final"
  },
  "orig_nbformat": 2,
  "kernelspec": {
   "name": "python3",
   "display_name": "Python 3.8.8 64-bit",
   "metadata": {
    "interpreter": {
     "hash": "2db524e06e9f5f4ffedc911c917cb75e12dbc923643829bf417064a77eb14d37"
    }
   }
  }
 },
 "nbformat": 4,
 "nbformat_minor": 2,
 "cells": [
  {
   "cell_type": "code",
   "execution_count": 18,
   "metadata": {},
   "outputs": [],
   "source": [
    "\"\"\"角色电影评分\"\"\"\n",
    "critics = {\n",
    "    'Lisa Rose': {\n",
    "        'Lady in the Water': 2.5, \n",
    "        'Snakes on a Plane': 3.5,\n",
    "        'Just My Luck': 3.0, \n",
    "        'Superman Returns': 3.5, \n",
    "        'You, Me and Dupree': 2.5,\n",
    "        'The Night Listener': 3.0\n",
    "    },\n",
    "\n",
    "    'Gene Seymour': {\n",
    "        'Lady in the Water': 3.0, \n",
    "        'Snakes on a Plane': 3.5,\n",
    "        'Just My Luck': 1.5, \n",
    "        'Superman Returns': 5.0, \n",
    "        'The Night Listener': 3.0,\n",
    "        'You, Me and Dupree': 3.5\n",
    "    },\n",
    "\n",
    "    'Michael Phillips': {\n",
    "        'Lady in the Water': 2.5, \n",
    "        'Snakes on a Plane': 3.0,\n",
    "        'Superman Returns': 3.5, \n",
    "        'The Night Listener': 4.0\n",
    "    },\n",
    "\n",
    "    'Claudia Puig': {\n",
    "        'Snakes on a Plane': 3.5, \n",
    "        'Just My Luck': 3.0,\n",
    "        'The Night Listener': 4.5, \n",
    "        'Superman Returns': 4.0,\n",
    "        'You, Me and Dupree': 2.5\n",
    "    },\n",
    "\n",
    "    'Mick LaSalle': {\n",
    "        'Lady in the Water': 3.0, \n",
    "        'Snakes on a Plane': 4.0,\n",
    "        'Just My Luck': 2.0, \n",
    "        'Superman Returns': 3.0, \n",
    "        'The Night Listener': 3.0,\n",
    "        'You, Me and Dupree': 2.0\n",
    "    },\n",
    "    \n",
    "    'Jack Matthews': {\n",
    "        'Lady in the Water': 3.0, \n",
    "        'Snakes on a Plane': 4.0,\n",
    "        'The Night Listener': 3.0, \n",
    "        'Superman Returns': 5.0, \n",
    "        'You, Me and Dupree': 3.5\n",
    "    },\n",
    "\n",
    "    'Toby': {\n",
    "        'Snakes on a Plane': 4.5, \n",
    "        'You, Me and Dupree': 1.0, \n",
    "        'Superman Returns': 4.0\n",
    "    }\n",
    "}"
   ]
  },
  {
   "cell_type": "code",
   "execution_count": 19,
   "metadata": {},
   "outputs": [],
   "source": [
    "def sim_distance(person1, person2, prefs=critics):\n",
    "    \"\"\"欧几里得距离评价\"\"\"\n",
    "    from math import sqrt\n",
    "    si = [] # 交集\n",
    "    for item in prefs[person1]:\n",
    "        if item in prefs[person2]:\n",
    "            si.append(item) # 加入交集\n",
    "\n",
    "    if len(si) == 0: return 0 # 交集为空则相似度为0\n",
    "\n",
    "    # 计算欧几里得距离的平方\n",
    "    sum_of_squares = sum(\n",
    "        [ pow(prefs[person1][item] - prefs[person2][item], 2) for item in prefs[person1] if item in prefs[person2] ]\n",
    "    )\n",
    "\n",
    "    # 返回一个0-1保留两位小数的数字，数字越大代表相似度越高\n",
    "    return 1/(1+sqrt(sum_of_squares))\n",
    "\n",
    "def sim_pearson(person1, person2, prefs=critics):\n",
    "    \"\"\"皮尔斯相关度评价\"\"\"\n",
    "    from math import sqrt\n",
    "\n",
    "    si = [] # 交集\n",
    "    for item in prefs[person1]:\n",
    "        if item in prefs[person2]:\n",
    "            si.append(item) # 加入交集\n",
    "\n",
    "    if len(si)==0: return 0\n",
    "    n=len(si)\n",
    "\n",
    "    # 评分求和\n",
    "    sum1=sum([prefs[person1][it] for it in si])\n",
    "    sum2=sum([prefs[person2][it] for it in si])\n",
    "    \n",
    "    # 评分平方和\n",
    "    sum1Sq=sum([pow(prefs[person1][it],2) for it in si])\n",
    "    sum2Sq=sum([pow(prefs[person2][it],2) for it in si])\t\n",
    "    \n",
    "    # 评分乘积和\n",
    "    pSum=sum([prefs[person1][it] * prefs[person2][it] for it in si])\n",
    "    \n",
    "    # 皮尔斯相关系数计算\n",
    "    # 当相关系数为0时，X和Y两变量无关系。\n",
    "    # 当X的值增大（减小），Y值增大（减小），两个变量为正相关，相关系数在0.00与1.00之间。\n",
    "    # 当X的值增大（减小），Y值减小（增大），两个变量为负相关，相关系数在-1.00与0.00之间。\n",
    "    num=pSum-(sum1*sum2/n)\n",
    "    den=sqrt((sum1Sq-pow(sum1,2)/n)*(sum2Sq-pow(sum2,2)/n))\n",
    "    if den==0: return 0\n",
    "\n",
    "    return num/den"
   ]
  },
  {
   "cell_type": "code",
   "execution_count": 20,
   "metadata": {},
   "outputs": [],
   "source": [
    "def get_matches(person, simlarity=sim_pearson, n=5, prefs=critics):\n",
    "    \"\"\"person相关度前5(默认)的人\"\"\"\n",
    "    scores = [(simlarity(person1=person, person2=other, prefs=prefs), other) for other in prefs if person != other]\n",
    "    scores.sort()\n",
    "    scores.reverse()\n",
    "    return scores[0:n]\n"
   ]
  },
  {
   "cell_type": "code",
   "execution_count": 31,
   "metadata": {},
   "outputs": [
    {
     "output_type": "execute_result",
     "data": {
      "text/plain": [
       "[(0.9912407071619299, 'Lisa Rose'),\n",
       " (0.9244734516419049, 'Mick LaSalle'),\n",
       " (0.8934051474415647, 'Claudia Puig'),\n",
       " (0.66284898035987, 'Jack Matthews'),\n",
       " (0.38124642583151164, 'Gene Seymour')]"
      ]
     },
     "metadata": {},
     "execution_count": 31
    }
   ],
   "source": [
    "get_matches(\"Toby\")"
   ]
  },
  {
   "cell_type": "code",
   "execution_count": 32,
   "metadata": {},
   "outputs": [
    {
     "output_type": "execute_result",
     "data": {
      "text/plain": [
       "[(0.4, 'Mick LaSalle'),\n",
       " (0.38742588672279304, 'Michael Phillips'),\n",
       " (0.3567891723253309, 'Claudia Puig'),\n",
       " (0.3483314773547883, 'Lisa Rose'),\n",
       " (0.2674788903885893, 'Jack Matthews')]"
      ]
     },
     "metadata": {},
     "execution_count": 32
    }
   ],
   "source": [
    "get_matches(\"Toby\", simlarity=sim_distance)\n"
   ]
  },
  {
   "cell_type": "code",
   "execution_count": 22,
   "metadata": {},
   "outputs": [],
   "source": [
    "def get_recommendations(person, simlarity=sim_pearson, n=5, prefs=critics):\n",
    "    \"\"\"计算出评分的加权平均数给出推荐\"\"\"\n",
    "    sim_dict = {}\n",
    "    sim_scores_dict = {}\n",
    "\n",
    "    # 遍历所有人\n",
    "    for other in prefs:\n",
    "        # 排除自己\n",
    "        if other == person : continue\n",
    "\n",
    "        # 计算相关度\n",
    "        sim = simlarity(person1=person, person2=other, prefs=prefs)\n",
    "\n",
    "        # 相关度必须大于0\n",
    "        if sim <= 0 : continue\n",
    "\n",
    "        for item in prefs[other]:\n",
    "            # 只判断没评价过的电影\n",
    "            if item in prefs[person] : continue\n",
    "            \n",
    "            # 置默认值\n",
    "            sim_scores_dict.setdefault(item, 0)\n",
    "            sim_dict.setdefault(item, 0)\n",
    "            \n",
    "            # 计算other的item评分*other相关度的累加(sum(分数*权))\n",
    "            sim_scores_dict[item] += prefs[other][item] * sim\n",
    "            # 计算总相关度：相关度累加(sum(权))\n",
    "            sim_dict[item] += sim\n",
    "    \n",
    "    # 计算itme评分加权平均值：sum(分数*权)/sum(权)\n",
    "    item_rank = [(sim_score/sim_dict[item], item) for item, sim_score in sim_scores_dict.items()]\n",
    "    item_rank.sort()\n",
    "    item_rank.reverse()\n",
    "\n",
    "    return item_rank[0:n]\n"
   ]
  },
  {
   "cell_type": "code",
   "execution_count": 23,
   "metadata": {},
   "outputs": [
    {
     "output_type": "execute_result",
     "data": {
      "text/plain": [
       "[(2.8092760065251268, 'Just My Luck'),\n",
       " (2.694636703980363, 'You, Me and Dupree')]"
      ]
     },
     "metadata": {},
     "execution_count": 23
    }
   ],
   "source": [
    "get_recommendations('Michael Phillips')"
   ]
  },
  {
   "cell_type": "code",
   "execution_count": 24,
   "metadata": {},
   "outputs": [
    {
     "output_type": "execute_result",
     "data": {
      "text/plain": [
       "[(2.4825817086405517, 'Just My Luck'),\n",
       " (2.453379230569188, 'You, Me and Dupree')]"
      ]
     },
     "metadata": {},
     "execution_count": 24
    }
   ],
   "source": [
    "get_recommendations('Michael Phillips', simlarity=sim_distance)"
   ]
  },
  {
   "cell_type": "code",
   "execution_count": 25,
   "metadata": {},
   "outputs": [],
   "source": [
    "def transform_prefs(prefs):\n",
    "    transform_dict = {}\n",
    "    for person in prefs:\n",
    "        for item in prefs[person]:\n",
    "            transform_dict.setdefault(item, {})\n",
    "            transform_dict[item][person] = prefs[person][item]\n",
    "    return transform_dict"
   ]
  },
  {
   "cell_type": "code",
   "execution_count": 26,
   "metadata": {},
   "outputs": [
    {
     "output_type": "execute_result",
     "data": {
      "text/plain": [
       "{'Lady in the Water': {'Lisa Rose': 2.5,\n",
       "  'Gene Seymour': 3.0,\n",
       "  'Michael Phillips': 2.5,\n",
       "  'Mick LaSalle': 3.0,\n",
       "  'Jack Matthews': 3.0},\n",
       " 'Snakes on a Plane': {'Lisa Rose': 3.5,\n",
       "  'Gene Seymour': 3.5,\n",
       "  'Michael Phillips': 3.0,\n",
       "  'Claudia Puig': 3.5,\n",
       "  'Mick LaSalle': 4.0,\n",
       "  'Jack Matthews': 4.0,\n",
       "  'Toby': 4.5},\n",
       " 'Just My Luck': {'Lisa Rose': 3.0,\n",
       "  'Gene Seymour': 1.5,\n",
       "  'Claudia Puig': 3.0,\n",
       "  'Mick LaSalle': 2.0},\n",
       " 'Superman Returns': {'Lisa Rose': 3.5,\n",
       "  'Gene Seymour': 5.0,\n",
       "  'Michael Phillips': 3.5,\n",
       "  'Claudia Puig': 4.0,\n",
       "  'Mick LaSalle': 3.0,\n",
       "  'Jack Matthews': 5.0,\n",
       "  'Toby': 4.0},\n",
       " 'You, Me and Dupree': {'Lisa Rose': 2.5,\n",
       "  'Gene Seymour': 3.5,\n",
       "  'Claudia Puig': 2.5,\n",
       "  'Mick LaSalle': 2.0,\n",
       "  'Jack Matthews': 3.5,\n",
       "  'Toby': 1.0},\n",
       " 'The Night Listener': {'Lisa Rose': 3.0,\n",
       "  'Gene Seymour': 3.0,\n",
       "  'Michael Phillips': 4.0,\n",
       "  'Claudia Puig': 4.5,\n",
       "  'Mick LaSalle': 3.0,\n",
       "  'Jack Matthews': 3.0}}"
      ]
     },
     "metadata": {},
     "execution_count": 26
    }
   ],
   "source": [
    "movies = transform_prefs(critics)\n",
    "movies"
   ]
  },
  {
   "cell_type": "code",
   "execution_count": 27,
   "metadata": {},
   "outputs": [
    {
     "output_type": "execute_result",
     "data": {
      "text/plain": [
       "[(0.6579516949597695, 'You, Me and Dupree'),\n",
       " (0.4879500364742689, 'Lady in the Water'),\n",
       " (0.11180339887498941, 'Snakes on a Plane'),\n",
       " (-0.1798471947990544, 'The Night Listener'),\n",
       " (-0.42289003161103106, 'Just My Luck')]"
      ]
     },
     "metadata": {},
     "execution_count": 27
    }
   ],
   "source": [
    "get_matches(person='Superman Returns', prefs=movies)"
   ]
  },
  {
   "cell_type": "code",
   "execution_count": 28,
   "metadata": {},
   "outputs": [
    {
     "output_type": "execute_result",
     "data": {
      "text/plain": [
       "[(0.3090169943749474, 'Snakes on a Plane'),\n",
       " (0.252650308587072, 'The Night Listener'),\n",
       " (0.2402530733520421, 'Lady in the Water'),\n",
       " (0.20799159651347807, 'Just My Luck'),\n",
       " (0.1918253663634734, 'You, Me and Dupree')]"
      ]
     },
     "metadata": {},
     "execution_count": 28
    }
   ],
   "source": [
    "get_matches(person='Superman Returns', simlarity=sim_distance, prefs=movies)"
   ]
  },
  {
   "cell_type": "code",
   "execution_count": null,
   "metadata": {},
   "outputs": [],
   "source": []
  }
 ]
}